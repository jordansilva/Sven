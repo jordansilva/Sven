{
 "cells": [
  {
   "cell_type": "code",
   "execution_count": 1,
   "metadata": {
    "collapsed": true
   },
   "outputs": [],
   "source": [
    "import os\n",
    "from datetime import datetime\n",
    "import pandas as pd\n",
    "import numpy as np"
   ]
  },
  {
   "cell_type": "code",
   "execution_count": 2,
   "metadata": {
    "collapsed": true
   },
   "outputs": [],
   "source": [
    "# #### LOADING TRAINING DATA\n",
    "def load_data(file):\n",
    "    print('Reading csv file with pandas')\n",
    "    tp = pd.read_csv(file,\n",
    "                     delimiter=',', \n",
    "                     header=0, \n",
    "                     chunksize=10000,\n",
    "                     dtype={'user': int,\n",
    "                            'venue': int, \n",
    "                            'point': list,\n",
    "                            'time': datetime,\n",
    "                            'cand_checked': list,\n",
    "                            'cand_all': list})\n",
    "    df = pd.concat(tp, ignore_index=True)\n",
    "    return df"
   ]
  },
  {
   "cell_type": "code",
   "execution_count": 3,
   "metadata": {
    "collapsed": false
   },
   "outputs": [
    {
     "name": "stdout",
     "output_type": "stream",
     "text": [
      "Reading csv file with pandas\n",
      "Reading csv file with pandas\n",
      "Reading csv file with pandas\n",
      "Reading csv file with pandas\n",
      "Reading csv file with pandas\n",
      "Reading csv file with pandas\n",
      "Reading csv file with pandas\n",
      "Reading csv file with pandas\n",
      "Reading csv file with pandas\n",
      "Reading csv file with pandas\n",
      "Reading csv file with pandas\n",
      "Reading csv file with pandas\n",
      "Reading csv file with pandas\n",
      "Reading csv file with pandas\n",
      "Reading csv file with pandas\n",
      "Reading csv file with pandas\n"
     ]
    }
   ],
   "source": [
    "# Path\n",
    "path = '/Volumes/Tyr/Projects/UFMG/Datasets/Ours/nyc'\n",
    "n_folds = 8\n",
    "\n",
    "for i in range(1,n_folds+1):\n",
    "    fold = '%s/fold_%d' % (path, i)\n",
    "    file_test = '%s/test.txt' % fold\n",
    "    file_validation = '%s/validation.txt' % fold\n",
    "    \n",
    "    #Validation\n",
    "    if os.path.exists(file_validation):\n",
    "        out_test = '%s/g_validation.trec' % fold\n",
    "        data = load_data(file_validation)\n",
    "        \n",
    "        fo = open(out_test, 'w')\n",
    "        for index, row in data.iterrows():\n",
    "            query_id = 'Q' + str(index+1)\n",
    "            item = str(row.venue)\n",
    "            fo.write('%s\\t0\\t%s\\t1\\n' % (query_id, item))\n",
    "        fo.close()\n",
    "        \n",
    "    #Test\n",
    "    if os.path.exists(file_test):\n",
    "        out_test = '%s/g_test.trec' % fold\n",
    "        data = load_data(file_test)\n",
    "        \n",
    "        fo = open(out_test, 'w')\n",
    "        for index, row in data.iterrows():\n",
    "            query_id = 'Q' + str(index+1)\n",
    "            item = str(row.venue)\n",
    "            fo.write('%s\\t0\\t%s\\t1\\n' % (query_id, item))\n",
    "        fo.close()"
   ]
  }
 ],
 "metadata": {
  "kernelspec": {
   "display_name": "Python 3",
   "language": "python",
   "name": "python3"
  },
  "language_info": {
   "codemirror_mode": {
    "name": "ipython",
    "version": 3
   },
   "file_extension": ".py",
   "mimetype": "text/x-python",
   "name": "python",
   "nbconvert_exporter": "python",
   "pygments_lexer": "ipython3",
   "version": "3.5.2"
  }
 },
 "nbformat": 4,
 "nbformat_minor": 1
}
